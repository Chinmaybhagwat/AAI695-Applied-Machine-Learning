{
 "cells": [
  {
   "cell_type": "code",
   "execution_count": 1,
   "id": "23501382",
   "metadata": {},
   "outputs": [
    {
     "data": {
      "text/html": [
       "<div>\n",
       "<style scoped>\n",
       "    .dataframe tbody tr th:only-of-type {\n",
       "        vertical-align: middle;\n",
       "    }\n",
       "\n",
       "    .dataframe tbody tr th {\n",
       "        vertical-align: top;\n",
       "    }\n",
       "\n",
       "    .dataframe thead th {\n",
       "        text-align: right;\n",
       "    }\n",
       "</style>\n",
       "<table border=\"1\" class=\"dataframe\">\n",
       "  <thead>\n",
       "    <tr style=\"text-align: right;\">\n",
       "      <th></th>\n",
       "      <th>x1</th>\n",
       "      <th>y</th>\n",
       "    </tr>\n",
       "  </thead>\n",
       "  <tbody>\n",
       "    <tr>\n",
       "      <th>0</th>\n",
       "      <td>6.1101</td>\n",
       "      <td>17.59200</td>\n",
       "    </tr>\n",
       "    <tr>\n",
       "      <th>1</th>\n",
       "      <td>5.5277</td>\n",
       "      <td>9.13020</td>\n",
       "    </tr>\n",
       "    <tr>\n",
       "      <th>2</th>\n",
       "      <td>8.5186</td>\n",
       "      <td>13.66200</td>\n",
       "    </tr>\n",
       "    <tr>\n",
       "      <th>3</th>\n",
       "      <td>7.0032</td>\n",
       "      <td>11.85400</td>\n",
       "    </tr>\n",
       "    <tr>\n",
       "      <th>4</th>\n",
       "      <td>5.8598</td>\n",
       "      <td>6.82330</td>\n",
       "    </tr>\n",
       "    <tr>\n",
       "      <th>...</th>\n",
       "      <td>...</td>\n",
       "      <td>...</td>\n",
       "    </tr>\n",
       "    <tr>\n",
       "      <th>92</th>\n",
       "      <td>5.8707</td>\n",
       "      <td>7.20290</td>\n",
       "    </tr>\n",
       "    <tr>\n",
       "      <th>93</th>\n",
       "      <td>5.3054</td>\n",
       "      <td>1.98690</td>\n",
       "    </tr>\n",
       "    <tr>\n",
       "      <th>94</th>\n",
       "      <td>8.2934</td>\n",
       "      <td>0.14454</td>\n",
       "    </tr>\n",
       "    <tr>\n",
       "      <th>95</th>\n",
       "      <td>13.3940</td>\n",
       "      <td>9.05510</td>\n",
       "    </tr>\n",
       "    <tr>\n",
       "      <th>96</th>\n",
       "      <td>5.4369</td>\n",
       "      <td>0.61705</td>\n",
       "    </tr>\n",
       "  </tbody>\n",
       "</table>\n",
       "<p>97 rows × 2 columns</p>\n",
       "</div>"
      ],
      "text/plain": [
       "         x1         y\n",
       "0    6.1101  17.59200\n",
       "1    5.5277   9.13020\n",
       "2    8.5186  13.66200\n",
       "3    7.0032  11.85400\n",
       "4    5.8598   6.82330\n",
       "..      ...       ...\n",
       "92   5.8707   7.20290\n",
       "93   5.3054   1.98690\n",
       "94   8.2934   0.14454\n",
       "95  13.3940   9.05510\n",
       "96   5.4369   0.61705\n",
       "\n",
       "[97 rows x 2 columns]"
      ]
     },
     "execution_count": 1,
     "metadata": {},
     "output_type": "execute_result"
    }
   ],
   "source": [
    "#Write a program to find the coefficients for a linear regression model for the dataset provided (data2.txt). \n",
    "#Assume a linear model: y = w0 + w1*x. You need to\n",
    "    \n",
    "    # 1)Plot the data (i.e., x-axis for the 1st column, y-axis for the 2nd column)\n",
    "    \n",
    "import matplotlib.pyplot as plt\n",
    "import numpy as np\n",
    "import pandas as pd\n",
    "import scipy.stats\n",
    "import seaborn as sns\n",
    "\n",
    "df = pd.read_csv('data2.txt',header = None)\n",
    "df.columns = [\"x1\",\"y\"]\n",
    "#data.rename(columns={0:'x1',1:'y'},inplace=True) # rename columns\n",
    "df"
   ]
  },
  {
   "cell_type": "code",
   "execution_count": 2,
   "id": "e277ec11",
   "metadata": {},
   "outputs": [
    {
     "name": "stdout",
     "output_type": "stream",
     "text": [
      "data\n"
     ]
    },
    {
     "data": {
      "image/png": "[encoded data removed]",
      "text/plain": [
       "<Figure size 432x288 with 1 Axes>"
      ]
     },
     "metadata": {
      "needs_background": "light"
     },
     "output_type": "display_data"
    }
   ],
   "source": [
    "#df.plot(kind='scatter',x='x',y='y')\n",
    "sns.scatterplot(data=df,x='x1',y='y')\n",
    "print(\"data\")"
   ]
  },
  {
   "cell_type": "code",
   "execution_count": 3,
   "id": "4b7a8d3c",
   "metadata": {},
   "outputs": [
    {
     "name": "stdout",
     "output_type": "stream",
     "text": [
      "coefficients [-3.89578088  1.19303364]\n"
     ]
    }
   ],
   "source": [
    "def normalequation(X , y):\n",
    "    Xb = np.c_[np.ones(len(df)),  X]\n",
    "    sigma = np.linalg.inv(Xb.T.dot(Xb)).dot(Xb.T).dot(y)\n",
    "    return sigma\n",
    "\n",
    "sigma = normalequation(df['x1'].values, df['y'].values)\n",
    "print(\"coefficients\",sigma)"
   ]
  },
  {
   "cell_type": "code",
   "execution_count": 4,
   "id": "e630c756",
   "metadata": {},
   "outputs": [
    {
     "data": {
      "image/png": "[encoded data removed]",
      "text/plain": [
       "<Figure size 432x288 with 1 Axes>"
      ]
     },
     "metadata": {
      "needs_background": "light"
     },
     "output_type": "display_data"
    }
   ],
   "source": [
    "sns.scatterplot(data=df,x='x1',y='y').set(title='normal equation')\n",
    "XA= np.linspace(5,22.5)\n",
    "YA= [sigma[0]+sigma[1]*w  for w in XA]\n",
    "plt.plot(XA, YA, 'r-')\n",
    "plt.show()"
   ]
  },
  {
   "cell_type": "code",
   "execution_count": 5,
   "id": "88fcd384",
   "metadata": {},
   "outputs": [],
   "source": [
    "df.insert(0,'x0',1) # add bias\n"
   ]
  },
  {
   "cell_type": "code",
   "execution_count": 6,
   "id": "477a3119",
   "metadata": {},
   "outputs": [],
   "source": [
    "from sklearn.model_selection import train_test_split  # split dataset\n",
    "\n",
    "X = np.matrix(df[[\"x0\",\"x1\"]])\n",
    "y = np.matrix(df[[\"y\"]])\n",
    "\n",
    "X_train,X_test,y_train,y_test=train_test_split(X,y,test_size=0.2)"
   ]
  },
  {
   "cell_type": "code",
   "execution_count": 7,
   "id": "6175edc7",
   "metadata": {},
   "outputs": [],
   "source": [
    "def Cost_BGD(X,y,w):\n",
    "    cost = np.sum(np.power(((X @ w.T) - y), 2))/(2 * len(X)) \n",
    "    return cost"
   ]
  },
  {
   "cell_type": "code",
   "execution_count": 8,
   "id": "cacf4268",
   "metadata": {},
   "outputs": [],
   "source": [
    "def Batch_GD(X, y, theta, alpha, epochs):\n",
    "    \n",
    "    temp = np.matrix(np.zeros(theta.shape))    \n",
    "    w = int(theta.ravel().shape[1]) # initialization w    \n",
    "    cost = np.zeros(epochs)\n",
    "    \n",
    "    for i in range(epochs):        \n",
    "        error = (X * theta.T) - y # error \n",
    "        \n",
    "        for j in range(w):\n",
    "            term = np.multiply(error, X[:,j]) # gradient for x0 and x1            \n",
    "            temp[0,j] = theta[0,j] - ((alpha / len(X)) * np.sum(term)) # updated gradient\n",
    "            \n",
    "        theta = temp        \n",
    "        cost[i] = Cost_BGD(X,y,theta) # get the cost of each updated w        \n",
    "    return theta, cost"
   ]
  },
  {
   "cell_type": "code",
   "execution_count": 9,
   "id": "8dd434ec",
   "metadata": {},
   "outputs": [
    {
     "name": "stdout",
     "output_type": "stream",
     "text": [
      "The final paramater is[[-0.25379863  0.84744426]]\n",
      "The final cost is 5.680444310560062\n"
     ]
    },
    {
     "data": {
      "text/plain": [
       "Text(0.5, 1.0, 'MSE vs Iteration in Training Dataset-BGD')"
      ]
     },
     "execution_count": 9,
     "metadata": {},
     "output_type": "execute_result"
    },
    {
     "data": {
      "image/png": "[encoded data removed]",
      "text/plain": [
       "<Figure size 432x288 with 1 Axes>"
      ]
     },
     "metadata": {
      "needs_background": "light"
     },
     "output_type": "display_data"
    }
   ],
   "source": [
    "theta = np.matrix(np.array([0,0]))\n",
    "alpha = 0.001\n",
    "epochs = 500\n",
    "\n",
    "w,error = Batch_GD(X_train, y_train, theta, alpha, epochs)\n",
    "print(\"The final paramater is\"+ str(w))\n",
    "print(\"The final cost is \"+ str(error[-1]))\n",
    "\n",
    "plt.plot(np.arange(epochs), error, 'g-')\n",
    "plt.title(\"MSE vs Iteration in Training Dataset-BGD\")"
   ]
  },
  {
   "cell_type": "code",
   "execution_count": 10,
   "id": "ea8e6a32",
   "metadata": {},
   "outputs": [
    {
     "name": "stdout",
     "output_type": "stream",
     "text": [
      "The final paramater is[[-0.21686851  0.70957322]]\n",
      "The final cost is 5.272687561941257\n"
     ]
    },
    {
     "data": {
      "text/plain": [
       "Text(0.5, 1.0, 'MSE vs Iteration in Testing Dataset-BGD')"
      ]
     },
     "execution_count": 10,
     "metadata": {},
     "output_type": "execute_result"
    },
    {
     "data": {
      "image/png": "[encoded data removed]",
      "text/plain": [
       "<Figure size 432x288 with 1 Axes>"
      ]
     },
     "metadata": {
      "needs_background": "light"
     },
     "output_type": "display_data"
    }
   ],
   "source": [
    "theta = np.matrix(np.array([0,0]))\n",
    "alpha = 0.001\n",
    "epochs = 500\n",
    "\n",
    "w,error = Batch_GD(X_test, y_test, theta, alpha, epochs)\n",
    "print(\"The final paramater is\"+ str(w))\n",
    "print(\"The final cost is \"+ str(error[-1]))\n",
    "\n",
    "plt.plot(np.arange(epochs), error,'g-')\n",
    "plt.title(\"MSE vs Iteration in Testing Dataset-BGD\")"
   ]
  },
  {
   "cell_type": "code",
   "execution_count": 11,
   "id": "e7401e53",
   "metadata": {},
   "outputs": [],
   "source": [
    "def Cost_SGD(X,y,w):\n",
    "    cost = np.power(((X @ w.T) - y), 2) /2  \n",
    "    return cost"
   ]
  },
  {
   "cell_type": "code",
   "execution_count": 12,
   "id": "f165b445",
   "metadata": {},
   "outputs": [],
   "source": [
    "import random \n",
    "random.seed(42)\n",
    "\n",
    "def SGD(X, y, theta, alpha, epochs):    \n",
    "    \n",
    "    temp = np.matrix(np.zeros(theta.shape)) \n",
    "    w = int(theta.ravel().shape[1]) # initialization w    \n",
    "    cost = np.zeros(len(X))    \n",
    "    avg_cost = np.zeros(epochs)\n",
    "    \n",
    "    for k in range(epochs):        \n",
    "        random_index  = np.random.choice(len(X), len(X), replace=False)\n",
    "        \n",
    "        for i in random_index:            \n",
    "            X_sample = X[i] \n",
    "            y_sample = y[i]\n",
    "            error = (X_sample * theta.T )- y_sample            \n",
    "            \n",
    "            for j in range(w):                \n",
    "                temp[0,j] = theta[0,j] - alpha * np.sum(np.multiply(error, X_sample[:,j])) # updated gradient\n",
    "                \n",
    "            theta = temp # store theta after updating            \n",
    "            cost[i] = Cost_SGD(X_sample,y_sample,theta)       \n",
    "        \n",
    "        avg_cost[k] = np.mean(cost)       \n",
    "    return theta,avg_cost                \n"
   ]
  },
  {
   "cell_type": "code",
   "execution_count": 13,
   "id": "c4f0b37c",
   "metadata": {},
   "outputs": [
    {
     "name": "stdout",
     "output_type": "stream",
     "text": [
      "The final paramater is[[-2.74370624  1.13683271]]\n"
     ]
    },
    {
     "data": {
      "text/plain": [
       "Text(0.5, 1.0, 'avg-cost vs iteration in Training Dataset-SGD')"
      ]
     },
     "execution_count": 13,
     "metadata": {},
     "output_type": "execute_result"
    },
    {
     "data": {
      "image/png": "[encoded data removed]",
      "text/plain": [
       "<Figure size 432x288 with 1 Axes>"
      ]
     },
     "metadata": {
      "needs_background": "light"
     },
     "output_type": "display_data"
    }
   ],
   "source": [
    "theta = np.matrix(np.array([0,0]))\n",
    "alpha = 0.001\n",
    "epochs = 100\n",
    "\n",
    "w, avg_cost = SGD(X_train, y_train, theta, alpha, epochs)\n",
    "\n",
    "print(\"The final paramater is\"+ str(w))\n",
    "plt.plot(np.arange(epochs), avg_cost, 'y-')\n",
    "plt.title(\"avg-cost vs iteration in Training Dataset-SGD\")"
   ]
  },
  {
   "cell_type": "code",
   "execution_count": 14,
   "id": "feb5e21b",
   "metadata": {},
   "outputs": [
    {
     "name": "stdout",
     "output_type": "stream",
     "text": [
      "The final paramater is[[-1.06790713  0.80928586]]\n"
     ]
    },
    {
     "data": {
      "text/plain": [
       "Text(0.5, 1.0, 'avg-cost vs iteration in Testing Dataset-SGD')"
      ]
     },
     "execution_count": 14,
     "metadata": {},
     "output_type": "execute_result"
    },
    {
     "data": {
      "image/png": "[encoded data removed]",
      "text/plain": [
       "<Figure size 432x288 with 1 Axes>"
      ]
     },
     "metadata": {
      "needs_background": "light"
     },
     "output_type": "display_data"
    }
   ],
   "source": [
    "theta = np.matrix(np.array([0,0]))\n",
    "alpha = 0.001\n",
    "epochs = 100\n",
    "\n",
    "w, avg_cost = SGD(X_test, y_test, theta, alpha, epochs)\n",
    "print(\"The final paramater is\"+ str(w))\n",
    "\n",
    "plt.plot(np.arange(epochs), avg_cost, 'y-')\n",
    "plt.title(\"avg-cost vs iteration in Testing Dataset-SGD\")"
   ]
  },
  {
   "cell_type": "markdown",
   "id": "365c1f40",
   "metadata": {},
   "source": [
    "discussion-\n",
    "Batch gradient descent seemed to output a result faster than stochastic gradient descent. However, it took more epochs to do so, so therefore sgd converged faster than bgd. Looking at the cost function vs learning rate graphs, both algorithms benefit from a higher learning rate, with a logarithmic trend. However, at a certain point the learning rate becomes too high, and it starts to jump towards infinity. From testing several inputs, a rate of 1e-4 seemed to work best. Both algorithms were accurate, and it is hard to say which produced the better output."
   ]
  },
  {
   "cell_type": "code",
   "execution_count": 15,
   "id": "5496b103",
   "metadata": {},
   "outputs": [],
   "source": [
    "learning_rate_list = [0.001, 0.002, 0.003, 0.004, 0.005, 0.006, 0.007, 0.008, 0.009, 0.01]\n",
    "cost_collect=[]\n",
    "iters = 4000\n",
    "\n",
    "for lr in learning_rate_list:\n",
    "    \n",
    "    g,cost = Batch_GD(X_test, y_test, theta, lr, iters)\n",
    "    \n",
    "    cost_collect.append(cost[-1])"
   ]
  },
  {
   "cell_type": "code",
   "execution_count": 16,
   "id": "dbcd3fdb",
   "metadata": {},
   "outputs": [
    {
     "data": {
      "text/plain": [
       "[<matplotlib.lines.Line2D at 0x27532019040>]"
      ]
     },
     "execution_count": 16,
     "metadata": {},
     "output_type": "execute_result"
    },
    {
     "data": {
      "image/png": "[encoded data removed]",
      "text/plain": [
       "<Figure size 432x288 with 1 Axes>"
      ]
     },
     "metadata": {
      "needs_background": "light"
     },
     "output_type": "display_data"
    }
   ],
   "source": [
    "plt.plot(learning_rate_list,cost_collect)"
   ]
  },
  {
   "cell_type": "code",
   "execution_count": 17,
   "id": "ae5655f6",
   "metadata": {},
   "outputs": [],
   "source": [
    "learning_rate_list = [0.001, 0.002, 0.003, 0.004, 0.005, 0.006, 0.007, 0.008, 0.009, 0.01]\n",
    "cost_collect=[]\n",
    "iters = 4000\n",
    "\n",
    "for lr in learning_rate_list:\n",
    "    \n",
    "    g,cost = SGD(X_test, y_test, theta, lr, iters)\n",
    "    \n",
    "    cost_collect.append(cost[-1])"
   ]
  },
  {
   "cell_type": "code",
   "execution_count": 18,
   "id": "05e11dc0",
   "metadata": {},
   "outputs": [
    {
     "data": {
      "text/plain": [
       "[<matplotlib.lines.Line2D at 0x2753207a5b0>]"
      ]
     },
     "execution_count": 18,
     "metadata": {},
     "output_type": "execute_result"
    },
    {
     "data": {
      "image/png": "[encoded data removed]",
      "text/plain": [
       "<Figure size 432x288 with 1 Axes>"
      ]
     },
     "metadata": {
      "needs_background": "light"
     },
     "output_type": "display_data"
    }
   ],
   "source": [
    "plt.plot(learning_rate_list,cost_collect)"
   ]
  },
  {
   "cell_type": "markdown",
   "id": "36c2debf",
   "metadata": {},
   "source": [
    "0.01 is the best lr in this case"
   ]
  },
  {
   "cell_type": "code",
   "execution_count": null,
   "id": "5862f6a8",
   "metadata": {},
   "outputs": [],
   "source": []
  }
 ],
 "metadata": {
  "kernelspec": {
   "display_name": "Python 3 (ipykernel)",
   "language": "python",
   "name": "python3"
  },
  "language_info": {
   "codemirror_mode": {
    "name": "ipython",
    "version": 3
   },
   "file_extension": ".py",
   "mimetype": "text/x-python",
   "name": "python",
   "nbconvert_exporter": "python",
   "pygments_lexer": "ipython3",
   "version": "3.9.12"
  }
 },
 "nbformat": 4,
 "nbformat_minor": 5
}
